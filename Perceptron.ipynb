{
 "cells": [
  {
   "cell_type": "markdown",
   "id": "c44b7345",
   "metadata": {
    "id": "VRLNrFDU3dKp"
   },
   "source": [
    "## [Part 1 Simple Feedback Learning (50 points)](#Part-1-Simple-Feedback-Learning)  \n",
    "\n",
    "**Simple Feedback Learning** uses the correct/incorrect feedback and info about (y>d) or (y<d) to change weights.  \n",
    "- Refer to **Perceptron slides**  \n",
    "\n",
    "### Build Model (40 points)  \n",
    "1. Calculate the output (10 points)  \n",
    "2. Implement weight adjustment (20 points)  \n",
    "3. Predict function (5 points)  \n",
    "4. Activation function (5 points)  \n",
    "\n",
    "### Evaluate Model (10 points)  \n",
    "Use the predict function to predict the labels with the test dataset (5 points)  \n",
    "Evaluate the prediction results (5 points)  \n",
    "- Evaluation matrics include confusion matrix, accuracy, recall, precision and F1 score\n",
    "\n",
    "## [Part 2 Error Correction Learning (50 points)](#Part-2-Error-Correction-Learning)  \n",
    "\n",
    "**Error Correction Learning** uses an error measure to adapt the weight vector.  \n",
    "- Refer to **Adaline slides**  \n",
    "\n",
    "### Build Model (40 points)  \n",
    "1. Calculate the output (10 points)  \n",
    "2. Implement weight adjustment (20 points)  \n",
    "3. Predict function (5 points)  \n",
    "4. Activation function (5 points)  \n",
    "\n",
    "### Evaluate Model (10 points)  \n",
    "Use the predict function to predict the lables with the test dataset (5 points)  \n",
    "Evaluate the prediction results (5 points)  \n",
    "- Evaluation matrics include confusion matrix, accuracy, recall, precision and F1 score"
   ]
  },
  {
   "cell_type": "code",
   "execution_count": 1,
   "id": "4ec2ff3b",
   "metadata": {
    "id": "b7e6a263"
   },
   "outputs": [],
   "source": [
    "import numpy as np\n",
    "import matplotlib.pyplot as plt\n",
    "from sklearn.model_selection import train_test_split\n",
    "from sklearn.datasets import load_iris"
   ]
  },
  {
   "cell_type": "code",
   "execution_count": 2,
   "id": "7e206e85",
   "metadata": {
    "id": "3a19bd78"
   },
   "outputs": [
    {
     "data": {
      "text/plain": [
       "(['sepal length (cm)',\n",
       "  'sepal width (cm)',\n",
       "  'petal length (cm)',\n",
       "  'petal width (cm)'],\n",
       " array(['setosa', 'versicolor', 'virginica'], dtype='<U10'))"
      ]
     },
     "execution_count": 2,
     "metadata": {},
     "output_type": "execute_result"
    }
   ],
   "source": [
    "data = load_iris()\n",
    "x = data.data\n",
    "x = (x - x.mean(axis=0)) / x.std(axis=0)\n",
    "y = data.target - 1\n",
    "data.feature_names, data.target_names"
   ]
  },
  {
   "cell_type": "code",
   "execution_count": 3,
   "id": "60cbfc26",
   "metadata": {
    "id": "34fd2e47",
    "scrolled": true
   },
   "outputs": [
    {
     "data": {
      "image/png": "[encoded data removed]",
      "text/plain": [
       "<Figure size 432x288 with 1 Axes>"
      ]
     },
     "metadata": {
      "needs_background": "light"
     },
     "output_type": "display_data"
    }
   ],
   "source": [
    "# data visualization\n",
    "x_axis, y_axis = 0, 2\n",
    "plt.scatter(x[50:100, x_axis], x[50:100, y_axis], color='r', label=data.target_names[1])\n",
    "plt.scatter(x[100:, x_axis], x[100:, y_axis], color='b', label=data.target_names[2])\n",
    "plt.legend()\n",
    "plt.xlabel(data.feature_names[x_axis])\n",
    "plt.ylabel(data.feature_names[y_axis])\n",
    "plt.show()"
   ]
  },
  {
   "cell_type": "code",
   "execution_count": 4,
   "id": "551aedbf",
   "metadata": {
    "id": "06c93a78"
   },
   "outputs": [
    {
     "data": {
      "text/plain": [
       "((80, 4), (20, 4), (80,), (20,))"
      ]
     },
     "execution_count": 4,
     "metadata": {},
     "output_type": "execute_result"
    }
   ],
   "source": [
    "# split the data into train and test sets\n",
    "x_train, x_test, y_train, y_test = train_test_split(x[50:], y[50:], test_size=0.2, random_state=0)\n",
    "x_train.shape, x_test.shape, y_train.shape, y_test.shape"
   ]
  },
  {
   "cell_type": "code",
   "execution_count": 5,
   "id": "b6cc7fe4",
   "metadata": {
    "id": "3c528d44"
   },
   "outputs": [
    {
     "name": "stdout",
     "output_type": "stream",
     "text": [
      "[0 1 0 1 1 1 0 1 1 1 1 1 1 0 0 0 0 0 0 0]\n"
     ]
    }
   ],
   "source": [
    "def evaluator(y_test, y_pred):\n",
    "    ####################################################################################################\n",
    "    # enter code here to implement the evaluation matrices including confusion matrix, accuracy, precision and recall\n",
    "    # DO NOT use any python packages such as scikit-learn\n",
    "    true_pos=0\n",
    "    false_pos=0\n",
    "    true_neg=0\n",
    "    false_neg = 0\n",
    "    for idx,test in enumerate(y_test):\n",
    "        \n",
    "        if test == y_pred[idx]:\n",
    "            if y_pred[idx] == 1:\n",
    "                true_pos += 1\n",
    "            else:\n",
    "                true_neg += 1\n",
    "        else:\n",
    "            if y_pred[idx] ==1:\n",
    "                false_pos += 1\n",
    "            else:\n",
    "                false_neg += 1\n",
    "    confusion_matrix = [[true_neg, false_pos],[false_neg, true_pos]]\n",
    "    accuracy = (true_pos + true_neg)/ (true_pos + true_neg + false_pos + false_neg)\n",
    "    precision = true_pos/(true_pos + false_pos)\n",
    "    recall = true_pos/(true_pos + false_pos)\n",
    "    f1 = 2*((precision*recall)/(precision + recall))\n",
    "    print(\"Confusion Matrix\")\n",
    "    print(confusion_matrix[0])\n",
    "    print(confusion_matrix[1])\n",
    "    print(\"Accuracy: \"+ str(accuracy))\n",
    "    print(\"Precision: \" + str(precision))\n",
    "    print(\"Recall: \" + str(recall))\n",
    "    print(\"F1 Score: \" + str(f1))\n",
    "            \n",
    "\n",
    "\n",
    "    ####################################################################################################\n",
    "print(y_test)"
   ]
  },
  {
   "cell_type": "markdown",
   "id": "e9c2f9fb",
   "metadata": {
    "id": "4e4a6b06"
   },
   "source": [
    "## Part 1 Simple Feedback Learning"
   ]
  },
  {
   "cell_type": "code",
   "execution_count": 6,
   "id": "98fa9b5b",
   "metadata": {
    "id": "f8e72d4a"
   },
   "outputs": [],
   "source": [
    "class SimpleFeedbackLearning(object):\n",
    "    def __init__(self):\n",
    "        self.history = {}\n",
    "        self.history['train_acc'] = []\n",
    "        self.history['test_acc'] = []\n",
    "        \n",
    "    def f(self, x):\n",
    "        ####################################################################################################\n",
    "        # 4. enter code here to implement the activation function\n",
    "        fx = np.where(x>0,1,0)\n",
    "        \n",
    "       \n",
    "        ####################################################################################################\n",
    "        return fx\n",
    "    \n",
    "    def train(self, x, y, x_test, y_test, learning_rate=0.1, n_iters=10, verbose=True):\n",
    "        n_train, input_size = x.shape\n",
    "        n_test = x_test.shape[0]\n",
    "        # weight initialization\n",
    "        self.W = np.zeros(input_size)\n",
    "        self.b = np.zeros(1)\n",
    "\n",
    "        for i in range(n_iters):\n",
    "\n",
    "            for xi, yi in zip(x, y):\n",
    "                # forward\n",
    "                ####################################################################################################\n",
    "                # 1. enter code here to calculate the output\n",
    "                output = np.dot(xi, self.W) + self.b\n",
    "                d = self.f(output)\n",
    "                \n",
    "                ####################################################################################################\n",
    "                \n",
    "                # backward\n",
    "                ####################################################################################################\n",
    "                # 2. enter code here to adjust the weights\n",
    "             \n",
    "               \n",
    "                if yi > d:\n",
    "                    self.W += learning_rate*xi\n",
    "                    self.b += learning_rate\n",
    "                if yi < d:\n",
    "                    self.W -= learning_rate*xi\n",
    "                    self.b -= learning_rate\n",
    "                    \n",
    "                ####################################################################################################\n",
    "           \n",
    "            train_acc = (self.predict(x) == y).sum() / n_train\n",
    "            test_acc = (self.predict(x_test) == y_test).sum() / n_test\n",
    "            self.history['train_acc'].append(train_acc)\n",
    "            self.history['test_acc'].append(test_acc)\n",
    "            if verbose:\n",
    "                print('epoch %d, train acc %.4f, test acc %.4f' % (i + 1, train_acc, test_acc))\n",
    "\n",
    "    def predict(self, x):\n",
    "        ####################################################################################################\n",
    "        # 3. enter code here to complete the predict function\n",
    "        # TODO: use the trained weights to predict labels and return the predicted labels\n",
    "        line = np.dot(x, self.W) + self.b\n",
    "        y_pred = self.f(line)\n",
    "       \n",
    "        ####################################################################################################\n",
    "        return y_pred"
   ]
  },
  {
   "cell_type": "code",
   "execution_count": 7,
   "id": "7fd784cf",
   "metadata": {
    "id": "3e567f44"
   },
   "outputs": [
    {
     "name": "stdout",
     "output_type": "stream",
     "text": [
      "epoch 1, train acc 0.9375, test acc 0.9000\n",
      "epoch 2, train acc 0.9000, test acc 0.7500\n",
      "epoch 3, train acc 0.9125, test acc 0.8000\n",
      "epoch 4, train acc 0.8875, test acc 0.7500\n",
      "epoch 5, train acc 0.9625, test acc 0.8000\n",
      "epoch 6, train acc 0.9750, test acc 0.9000\n",
      "epoch 7, train acc 0.9750, test acc 0.9000\n",
      "epoch 8, train acc 0.9625, test acc 0.9000\n",
      "epoch 9, train acc 0.9375, test acc 0.8000\n",
      "epoch 10, train acc 0.9625, test acc 0.9000\n"
     ]
    }
   ],
   "source": [
    "model1 = SimpleFeedbackLearning()\n",
    "model1.train(x_train, y_train, x_test, y_test, learning_rate=0.001, n_iters=10, verbose=True)"
   ]
  },
  {
   "cell_type": "code",
   "execution_count": 8,
   "id": "61f17697",
   "metadata": {
    "id": "b6fde511"
   },
   "outputs": [
    {
     "data": {
      "text/plain": [
       "(array([-0.00065431, -0.00174029,  0.00639307,  0.00499676]), array([-0.006]))"
      ]
     },
     "execution_count": 8,
     "metadata": {},
     "output_type": "execute_result"
    }
   ],
   "source": [
    "model1.W, model1.b"
   ]
  },
  {
   "cell_type": "code",
   "execution_count": 9,
   "id": "fe894ff3",
   "metadata": {
    "id": "3830d2ef"
   },
   "outputs": [
    {
     "data": {
      "image/png": "[encoded data removed]",
      "text/plain": [
       "<Figure size 432x288 with 1 Axes>"
      ]
     },
     "metadata": {
      "needs_background": "light"
     },
     "output_type": "display_data"
    }
   ],
   "source": [
    "plt.plot(model1.history['train_acc'], label='train_acc')\n",
    "plt.plot(model1.history['test_acc'], label='test_acc')\n",
    "plt.legend()\n",
    "plt.show()"
   ]
  },
  {
   "cell_type": "code",
   "execution_count": 10,
   "id": "9f6110a0",
   "metadata": {
    "id": "409344f7",
    "scrolled": true
   },
   "outputs": [
    {
     "name": "stdout",
     "output_type": "stream",
     "text": [
      "Confusion Matrix\n",
      "[8, 2]\n",
      "[0, 10]\n",
      "Accuracy: 0.9\n",
      "Precision: 0.8333333333333334\n",
      "Recall: 0.8333333333333334\n",
      "F1 Score: 0.8333333333333334\n"
     ]
    }
   ],
   "source": [
    "y_pred = model1.predict(x_test)\n",
    "evaluator(y_test, y_pred)"
   ]
  },
  {
   "cell_type": "markdown",
   "id": "5c338aca",
   "metadata": {
    "id": "e77b19e5"
   },
   "source": [
    "## Part 2 Error Correction Learning"
   ]
  },
  {
   "cell_type": "code",
   "execution_count": 26,
   "id": "52498329",
   "metadata": {
    "id": "ba3d28af"
   },
   "outputs": [],
   "source": [
    "class ErrorCorrectionLearning(object):\n",
    "    def __init__(self):\n",
    "        self.history = {}\n",
    "        self.history['train_error'] = []\n",
    "        self.history['train_acc'] = []\n",
    "        self.history['test_acc'] = []\n",
    "        \n",
    "    def f(self, x):\n",
    "        ####################################################################################################\n",
    "        # 4. enter code here to implement the activation function\n",
    "        fx = x\n",
    "        ####################################################################################################\n",
    "        return fx\n",
    "    \n",
    "    def train(self, x, y, x_test, y_test, learning_rate=0.1, n_iters=10, verbose=True):\n",
    "   \n",
    "        n_train, input_size = x.shape\n",
    "        n_test = x_test.shape[0]\n",
    "        self.W = np.zeros(input_size)\n",
    "        self.b = np.zeros(1)\n",
    "\n",
    "        for i in range(n_iters):\n",
    "            error = 0.0\n",
    "            for xi, yi in zip(x, y):\n",
    "                # forward\n",
    "                ####################################################################################################\n",
    "                # 1. enter code here to calculate the output\n",
    "                output = np.dot(xi, self.W) + self.b\n",
    "                d = self.f(output)\n",
    "                \n",
    "                ####################################################################################################\n",
    "                \n",
    "                # backward\n",
    "                ####################################################################################################\n",
    "                # 2. enter code here to adjust the weights\n",
    "                err = yi - d\n",
    "                update = learning_rate* err\n",
    "                self.W += update*xi\n",
    "                self.b += update\n",
    "                ####################################################################################################\n",
    "\n",
    "\n",
    "                error += np.abs(err)\n",
    "                \n",
    "            self.history['train_error'].append(error)\n",
    "            train_acc = (self.predict(x) == y).sum() / n_train\n",
    "            test_acc = (self.predict(x_test) == y_test).sum() / n_test\n",
    "         \n",
    "            self.history['train_acc'].append(train_acc)\n",
    "            self.history['test_acc'].append(test_acc)\n",
    "            if verbose:\n",
    "                print('epoch %d, train error %.4f, train acc %.4f, test acc %.4f' % \n",
    "                      (i + 1, error, train_acc, test_acc))\n",
    "\n",
    "    def predict(self, x):\n",
    "        ####################################################################################################\n",
    "        # 3. enter code here to complete the predict function\n",
    "        # TODO: use the trained weights to predict labels and return the predicted labels\n",
    "        line = np.dot(x, self.W) + self.b\n",
    "        y_preds = self.f(line)\n",
    "        y_pred= []\n",
    "        for y in y_preds:\n",
    "            if y> 0.7:\n",
    "                y_pred.append(1)\n",
    "            else:\n",
    "                y_pred.append(0)\n",
    "        \n",
    "                \n",
    "        ####################################################################################################\n",
    "        return y_pred"
   ]
  },
  {
   "cell_type": "code",
   "execution_count": 27,
   "id": "bb0e37cf",
   "metadata": {
    "id": "f59bbea4"
   },
   "outputs": [
    {
     "name": "stdout",
     "output_type": "stream",
     "text": [
      "epoch 1, train error 29.7840, train acc 0.7625, test acc 0.8500\n",
      "epoch 2, train error 22.4097, train acc 0.8125, test acc 0.8500\n",
      "epoch 3, train error 21.0082, train acc 0.8375, test acc 0.8500\n",
      "epoch 4, train error 20.1690, train acc 0.8500, test acc 0.9000\n",
      "epoch 5, train error 19.4819, train acc 0.8625, test acc 0.9000\n",
      "epoch 6, train error 18.9308, train acc 0.8625, test acc 0.9000\n",
      "epoch 7, train error 18.4861, train acc 0.8625, test acc 0.9500\n",
      "epoch 8, train error 18.0805, train acc 0.8750, test acc 0.9500\n",
      "epoch 9, train error 17.7425, train acc 0.8750, test acc 0.9500\n",
      "epoch 10, train error 17.4735, train acc 0.8750, test acc 0.9500\n"
     ]
    }
   ],
   "source": [
    "model2 = ErrorCorrectionLearning()\n",
    "model2.train(x_train, y_train, x_test, y_test, learning_rate=0.01, n_iters=10, verbose=True)"
   ]
  },
  {
   "cell_type": "code",
   "execution_count": 28,
   "id": "67a70514",
   "metadata": {
    "id": "1565fafa"
   },
   "outputs": [
    {
     "data": {
      "text/plain": [
       "(array([ 0.01590016, -0.08223672,  0.3414232 ,  0.4642391 ]),\n",
       " array([-0.01258554]))"
      ]
     },
     "execution_count": 28,
     "metadata": {},
     "output_type": "execute_result"
    }
   ],
   "source": [
    "model2.W, model2.b"
   ]
  },
  {
   "cell_type": "code",
   "execution_count": 29,
   "id": "3e3f688f",
   "metadata": {
    "id": "978f6bb4"
   },
   "outputs": [
    {
     "data": {
      "image/png": "[encoded data removed]",
      "text/plain": [
       "<Figure size 432x288 with 1 Axes>"
      ]
     },
     "metadata": {
      "needs_background": "light"
     },
     "output_type": "display_data"
    }
   ],
   "source": [
    "plt.plot(model2.history['train_acc'], label='train_acc')\n",
    "plt.plot(model2.history['test_acc'], label='test_acc')\n",
    "plt.legend()\n",
    "plt.show()"
   ]
  },
  {
   "cell_type": "code",
   "execution_count": 30,
   "id": "bf4aad1c",
   "metadata": {
    "id": "cbdb5794"
   },
   "outputs": [
    {
     "name": "stdout",
     "output_type": "stream",
     "text": [
      "Confusion Matrix\n",
      "[10, 0]\n",
      "[1, 9]\n",
      "Accuracy: 0.95\n",
      "Precision: 1.0\n",
      "Recall: 1.0\n",
      "F1 Score: 1.0\n"
     ]
    }
   ],
   "source": [
    "y_pred = model2.predict(x_test)\n",
    "evaluator(y_test, y_pred)"
   ]
  },
  {
   "cell_type": "code",
   "execution_count": null,
   "metadata": {},
   "outputs": [],
   "source": []
  }
 ],
 "metadata": {
  "accelerator": "GPU",
  "colab": {
   "collapsed_sections": [],
   "name": "A1.ipynb",
   "provenance": []
  },
  "kernelspec": {
   "display_name": "Python 3",
   "language": "python",
   "name": "python3"
  },
  "language_info": {
   "codemirror_mode": {
    "name": "ipython",
    "version": 3
   },
   "file_extension": ".py",
   "mimetype": "text/x-python",
   "name": "python",
   "nbconvert_exporter": "python",
   "pygments_lexer": "ipython3",
   "version": "3.8.5"
  }
 },
 "nbformat": 4,
 "nbformat_minor": 5
}
