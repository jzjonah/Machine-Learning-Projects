{
 "cells": [
  {
   "cell_type": "code",
   "execution_count": 1,
   "metadata": {},
   "outputs": [],
   "source": [
    "import pandas as pd \n",
    "import numpy as np\n",
    "from sklearn.model_selection import train_test_split\n",
    "from sklearn.preprocessing import StandardScaler\n",
    "from sklearn.metrics import confusion_matrix\n",
    "from sklearn.metrics import f1_score\n",
    "from sklearn.metrics import accuracy_score"
   ]
  },
  {
   "cell_type": "code",
   "execution_count": 2,
   "metadata": {},
   "outputs": [],
   "source": [
    "\n",
    "class NaiveBayes:\n",
    "    def fit(self, X, y):\n",
    "        n_samples, n_features = X.shape\n",
    "        self._classes = np.unique(y)\n",
    "        n_classes = len(self._classes)\n",
    "\n",
    "        #calc mean, var and prior\n",
    "        self._mean = np.zeros((n_classes, n_features), dtype=np.float64)\n",
    "        self._var = np.zeros((n_classes, n_features), dtype=np.float64)\n",
    "        self._priors = np.zeros(n_classes, dtype=np.float64)\n",
    "\n",
    "        for idx, c in enumerate(self._classes):\n",
    "            X_c = X[y==c]\n",
    "            self._mean[idx, :] = X_c.mean(axis=0)\n",
    "            self._mean[idx, :] = X_c.var(axis=0)\n",
    "            self._priors[idx] = X_c.shape[0]/float(n_samples)\n",
    "\n",
    "    def predict(self, X):\n",
    "        Y_pred = [self._predict(x) for x in X]\n",
    "        return np.array(Y_pred)\n",
    "\n",
    "    def _predict(self, x ):\n",
    "        posteriors = []\n",
    "\n",
    "        for idx, c in enumerate(self._classes):\n",
    "            prior = np.log(self._priors[idx])\n",
    "            posterior = np.sum(np.log(self._pdf(idx,x)))\n",
    "            posterior = posterior + prior\n",
    "            posteriors.append(posterior)\n",
    "        return self._classes[np.argmax(posteriors)]\n",
    "\n",
    "    def _pdf(self, class_idx, x):\n",
    "        mean = self._mean[class_idx]\n",
    "        var = self._var[class_idx]\n",
    "        numerator = np.exp(-((x-mean) ** 2)/(2*var))\n",
    "        denominator = np.sqrt(2 *np.pi * var)\n",
    "        return numerator/denominator"
   ]
  },
  {
   "cell_type": "code",
   "execution_count": 9,
   "metadata": {},
   "outputs": [
    {
     "name": "stdout",
     "output_type": "stream",
     "text": [
      "150\n",
      "   sepal_length  sepal_width  petal_length  petal_width      species\n",
      "0           5.1          3.5           1.4          0.2  Iris-setosa\n",
      "1           4.9          3.0           1.4          0.2  Iris-setosa\n",
      "2           4.7          3.2           1.3          0.2  Iris-setosa\n",
      "3           4.6          3.1           1.5          0.2  Iris-setosa\n",
      "4           5.0          3.6           1.4          0.2  Iris-setosa\n"
     ]
    }
   ],
   "source": [
    "# loading in the dataset and checking to see that it has loaded propperly\n",
    "\n",
    "dataset = pd.read_csv('./Datasets/Iris_data.csv')\n",
    "print(len(dataset))\n",
    "print(dataset.head())"
   ]
  },
  {
   "cell_type": "code",
   "execution_count": 12,
   "metadata": {},
   "outputs": [
    {
     "ename": "TypeError",
     "evalue": "'int' object is not iterable",
     "output_type": "error",
     "traceback": [
      "\u001b[1;31m---------------------------------------------------------------------------\u001b[0m",
      "\u001b[1;31mTypeError\u001b[0m                                 Traceback (most recent call last)",
      "Cell \u001b[1;32mIn[12], line 5\u001b[0m\n\u001b[0;32m      3\u001b[0m y \u001b[39m=\u001b[39m dataset\u001b[39m.\u001b[39miloc[:,\u001b[39m4\u001b[39m]\n\u001b[0;32m      4\u001b[0m Y\u001b[39m=\u001b[39m[]\n\u001b[1;32m----> 5\u001b[0m \u001b[39mfor\u001b[39;00m i \u001b[39min\u001b[39;00m \u001b[39mlen\u001b[39m(y):\n\u001b[0;32m      6\u001b[0m     \u001b[39mif\u001b[39;00m y[i] \u001b[39m==\u001b[39m \u001b[39m'\u001b[39m\u001b[39mIris-setosa\u001b[39m\u001b[39m'\u001b[39m:\n\u001b[0;32m      7\u001b[0m         Y\u001b[39m.\u001b[39mappend(\u001b[39m0\u001b[39m)\n",
      "\u001b[1;31mTypeError\u001b[0m: 'int' object is not iterable"
     ]
    }
   ],
   "source": [
    "# removing no inputs in the data with the mean number of the data to help the effectivness of the k-nn \n",
    "\n",
    "y = dataset.iloc[:,4]\n",
    "Y=[]\n",
    "for i in range(len(y)):\n",
    "    if y[i] == 'Iris-setosa':\n",
    "        Y.append(0)\n",
    "    elif y[i] == 'Iris-versicolor':\n",
    "        Y.append(1)\n",
    "    elif y[i] == 'Iris-virginica':\n",
    "        Y.append(2)\n",
    "print(Y)\n"
   ]
  },
  {
   "cell_type": "code",
   "execution_count": 5,
   "metadata": {},
   "outputs": [],
   "source": [
    "# splitting the input and output data\n",
    "X = dataset.iloc[:, 1:3]\n",
    "Y = dataset.iloc[:, 8]\n",
    "# splitting the data into the training data and the testing data\n",
    "X_train, X_test, Y_train, Y_test = train_test_split(X,Y, random_state=0, test_size = 0.2)"
   ]
  },
  {
   "cell_type": "code",
   "execution_count": 6,
   "metadata": {},
   "outputs": [],
   "source": [
    "# standardizing the data to be of numbers between 0-1\n",
    "sc_X = StandardScaler()\n",
    "X_train = sc_X.fit_transform(X_train)\n",
    "X_test = sc_X.fit_transform(X_test)"
   ]
  },
  {
   "cell_type": "code",
   "execution_count": 7,
   "metadata": {},
   "outputs": [
    {
     "name": "stderr",
     "output_type": "stream",
     "text": [
      "C:\\Users\\jonah\\AppData\\Local\\Temp\\ipykernel_412728\\1196849178.py:35: RuntimeWarning: divide by zero encountered in divide\n",
      "  numerator = np.exp(-((x-mean) ** 2)/(2*var))\n",
      "C:\\Users\\jonah\\AppData\\Local\\Temp\\ipykernel_412728\\1196849178.py:37: RuntimeWarning: invalid value encountered in divide\n",
      "  return numerator/denominator\n"
     ]
    }
   ],
   "source": [
    "nb = NaiveBayes()\n",
    "nb.fit(X_train, Y_train)\n",
    "Y_pred = nb.predict(X_test)"
   ]
  },
  {
   "cell_type": "code",
   "execution_count": 8,
   "metadata": {},
   "outputs": [
    {
     "name": "stdout",
     "output_type": "stream",
     "text": [
      "[[107   0]\n",
      " [ 47   0]]\n",
      "0.0\n",
      "0.6948051948051948\n"
     ]
    }
   ],
   "source": [
    "cm = confusion_matrix(Y_test, Y_pred)\n",
    "print(cm)\n",
    "# producing f1 score and accuracy score\n",
    "print(f1_score(Y_test, Y_pred))\n",
    "print(accuracy_score(Y_test, Y_pred))"
   ]
  }
 ],
 "metadata": {
  "kernelspec": {
   "display_name": "baseEnv",
   "language": "python",
   "name": "python3"
  },
  "language_info": {
   "codemirror_mode": {
    "name": "ipython",
    "version": 3
   },
   "file_extension": ".py",
   "mimetype": "text/x-python",
   "name": "python",
   "nbconvert_exporter": "python",
   "pygments_lexer": "ipython3",
   "version": "3.11.3"
  },
  "orig_nbformat": 4
 },
 "nbformat": 4,
 "nbformat_minor": 2
}
